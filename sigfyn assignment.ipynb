{
 "cells": [
  {
   "cell_type": "code",
   "execution_count": 14,
   "metadata": {},
   "outputs": [
    {
     "name": "stdout",
     "output_type": "stream",
     "text": [
      "{'5': ['6', '7'], '6': ['8'], '7': ['11'], '8': ['9', '10'], '9': [], '10': [], '11': []}\n",
      "======================================================================================================\n",
      "the depth first tree is:\n",
      "5\n",
      "6\n",
      "8\n",
      "9\n",
      "10\n",
      "7\n",
      "11\n"
     ]
    }
   ],
   "source": [
    "visited=set()\n",
    "def dfs(visited,graph,node):\n",
    "    if node not in visited:\n",
    "        print(node)\n",
    "        visited.add(node)\n",
    "        for nextone in graph[node]:\n",
    "            dfs(visited,graph,nextone)\n",
    "graph={\n",
    "    '5':['6','7'],\n",
    "    '6':['8'],\n",
    "    '7':['11'],\n",
    "    '8':['9','10'],\n",
    "    '9':[],\n",
    "    '10':[],\n",
    "    '11':[],\n",
    "}\n",
    "print(graph)\n",
    "print(\"======================================================================================================\")\n",
    "print(\"the depth first tree is:\")\n",
    "dfs(visited,graph,'5')"
   ]
  },
  {
   "cell_type": "code",
   "execution_count": 17,
   "metadata": {},
   "outputs": [
    {
     "name": "stdout",
     "output_type": "stream",
     "text": [
      "[12, 10, 14, 5, 11, 6]\n",
      "=========================================================\n",
      "sorted array:\n",
      "[5, 6, 10, 11, 12, 14]\n"
     ]
    }
   ],
   "source": [
    "def mergesort(arr):\n",
    "    if len(arr)>1:\n",
    "        mid = len(arr)//2\n",
    "        l = arr[:mid]\n",
    "        r = arr[mid:]\n",
    "        mergesort(l)\n",
    "        mergesort(r)\n",
    "        i=j=k=0\n",
    "        while i<len(l) and j<len(r):\n",
    "            if l[i]<r[j]:\n",
    "                arr[k]=l[i]\n",
    "                i+=1\n",
    "            else:\n",
    "                arr[k]=r[j]\n",
    "                j+=1\n",
    "            k=k+1\n",
    "        while i<len(l):\n",
    "            arr[k]=l[i]\n",
    "            i+=1\n",
    "            k+=1\n",
    "        while j<len(r):\n",
    "            arr[k]=r[j]\n",
    "            j+=1\n",
    "            k+=1\n",
    "arr=[12,10,14,5,11,6]\n",
    "print(arr)\n",
    "print(\"=========================================================\")\n",
    "mergesort(arr)\n",
    "print(\"Sorted array:\")\n",
    "print(arr)"
   ]
  },
  {
   "cell_type": "code",
   "execution_count": null,
   "metadata": {},
   "outputs": [],
   "source": []
  },
  {
   "cell_type": "code",
   "execution_count": null,
   "metadata": {},
   "outputs": [],
   "source": []
  }
 ],
 "metadata": {
  "kernelspec": {
   "display_name": "Python 3",
   "language": "python",
   "name": "python3"
  },
  "language_info": {
   "codemirror_mode": {
    "name": "ipython",
    "version": 3
   },
   "file_extension": ".py",
   "mimetype": "text/x-python",
   "name": "python",
   "nbconvert_exporter": "python",
   "pygments_lexer": "ipython3",
   "version": "3.7.1"
  }
 },
 "nbformat": 4,
 "nbformat_minor": 2
}
